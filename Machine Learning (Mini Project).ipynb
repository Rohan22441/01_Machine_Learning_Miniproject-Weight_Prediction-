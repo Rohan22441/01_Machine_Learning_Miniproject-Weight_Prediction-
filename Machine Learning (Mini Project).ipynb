{
 "cells": [
  {
   "cell_type": "markdown",
   "id": "14789156",
   "metadata": {},
   "source": [
    "# Machine Learning (Mini Project) :-\n",
    "## Weight Prediction :"
   ]
  },
  {
   "cell_type": "code",
   "execution_count": 1,
   "id": "7d86407c",
   "metadata": {},
   "outputs": [],
   "source": [
    "import numpy as np\n",
    "import pandas as pd\n",
    "import seaborn as sb\n",
    "import sklearn\n",
    "import matplotlib.pyplot as plt\n",
    "%matplotlib inline"
   ]
  },
  {
   "cell_type": "code",
   "execution_count": 2,
   "id": "dea67d65",
   "metadata": {},
   "outputs": [
    {
     "data": {
      "text/html": [
       "<div>\n",
       "<style scoped>\n",
       "    .dataframe tbody tr th:only-of-type {\n",
       "        vertical-align: middle;\n",
       "    }\n",
       "\n",
       "    .dataframe tbody tr th {\n",
       "        vertical-align: top;\n",
       "    }\n",
       "\n",
       "    .dataframe thead th {\n",
       "        text-align: right;\n",
       "    }\n",
       "</style>\n",
       "<table border=\"1\" class=\"dataframe\">\n",
       "  <thead>\n",
       "    <tr style=\"text-align: right;\">\n",
       "      <th></th>\n",
       "      <th>id</th>\n",
       "      <th>gender</th>\n",
       "      <th>weight</th>\n",
       "      <th>height</th>\n",
       "    </tr>\n",
       "  </thead>\n",
       "  <tbody>\n",
       "    <tr>\n",
       "      <th>0</th>\n",
       "      <td>29</td>\n",
       "      <td>F</td>\n",
       "      <td>39</td>\n",
       "      <td>157</td>\n",
       "    </tr>\n",
       "    <tr>\n",
       "      <th>1</th>\n",
       "      <td>182</td>\n",
       "      <td>F</td>\n",
       "      <td>43</td>\n",
       "      <td>154</td>\n",
       "    </tr>\n",
       "    <tr>\n",
       "      <th>2</th>\n",
       "      <td>130</td>\n",
       "      <td>F</td>\n",
       "      <td>44</td>\n",
       "      <td>157</td>\n",
       "    </tr>\n",
       "    <tr>\n",
       "      <th>3</th>\n",
       "      <td>104</td>\n",
       "      <td>F</td>\n",
       "      <td>45</td>\n",
       "      <td>163</td>\n",
       "    </tr>\n",
       "    <tr>\n",
       "      <th>4</th>\n",
       "      <td>128</td>\n",
       "      <td>F</td>\n",
       "      <td>45</td>\n",
       "      <td>157</td>\n",
       "    </tr>\n",
       "    <tr>\n",
       "      <th>...</th>\n",
       "      <td>...</td>\n",
       "      <td>...</td>\n",
       "      <td>...</td>\n",
       "      <td>...</td>\n",
       "    </tr>\n",
       "    <tr>\n",
       "      <th>194</th>\n",
       "      <td>65</td>\n",
       "      <td>M</td>\n",
       "      <td>97</td>\n",
       "      <td>189</td>\n",
       "    </tr>\n",
       "    <tr>\n",
       "      <th>195</th>\n",
       "      <td>30</td>\n",
       "      <td>M</td>\n",
       "      <td>101</td>\n",
       "      <td>183</td>\n",
       "    </tr>\n",
       "    <tr>\n",
       "      <th>196</th>\n",
       "      <td>54</td>\n",
       "      <td>M</td>\n",
       "      <td>102</td>\n",
       "      <td>185</td>\n",
       "    </tr>\n",
       "    <tr>\n",
       "      <th>197</th>\n",
       "      <td>97</td>\n",
       "      <td>M</td>\n",
       "      <td>103</td>\n",
       "      <td>185</td>\n",
       "    </tr>\n",
       "    <tr>\n",
       "      <th>198</th>\n",
       "      <td>21</td>\n",
       "      <td>M</td>\n",
       "      <td>99</td>\n",
       "      <td>180</td>\n",
       "    </tr>\n",
       "  </tbody>\n",
       "</table>\n",
       "<p>199 rows × 4 columns</p>\n",
       "</div>"
      ],
      "text/plain": [
       "      id gender  weight  height\n",
       "0     29      F      39     157\n",
       "1    182      F      43     154\n",
       "2    130      F      44     157\n",
       "3    104      F      45     163\n",
       "4    128      F      45     157\n",
       "..   ...    ...     ...     ...\n",
       "194   65      M      97     189\n",
       "195   30      M     101     183\n",
       "196   54      M     102     185\n",
       "197   97      M     103     185\n",
       "198   21      M      99     180\n",
       "\n",
       "[199 rows x 4 columns]"
      ]
     },
     "execution_count": 2,
     "metadata": {},
     "output_type": "execute_result"
    }
   ],
   "source": [
    "df = pd.read_csv(\"C:\\\\Users\\\\admin\\\\Documents\\\\My Tableau Repository\\\\Datasources\\\\Height_Weight.csv\")\n",
    "df"
   ]
  },
  {
   "cell_type": "code",
   "execution_count": 3,
   "id": "17b978dd",
   "metadata": {},
   "outputs": [
    {
     "data": {
      "text/html": [
       "<div>\n",
       "<style scoped>\n",
       "    .dataframe tbody tr th:only-of-type {\n",
       "        vertical-align: middle;\n",
       "    }\n",
       "\n",
       "    .dataframe tbody tr th {\n",
       "        vertical-align: top;\n",
       "    }\n",
       "\n",
       "    .dataframe thead th {\n",
       "        text-align: right;\n",
       "    }\n",
       "</style>\n",
       "<table border=\"1\" class=\"dataframe\">\n",
       "  <thead>\n",
       "    <tr style=\"text-align: right;\">\n",
       "      <th></th>\n",
       "      <th>gender</th>\n",
       "      <th>weight</th>\n",
       "      <th>height</th>\n",
       "    </tr>\n",
       "  </thead>\n",
       "  <tbody>\n",
       "    <tr>\n",
       "      <th>0</th>\n",
       "      <td>F</td>\n",
       "      <td>39</td>\n",
       "      <td>157</td>\n",
       "    </tr>\n",
       "    <tr>\n",
       "      <th>1</th>\n",
       "      <td>F</td>\n",
       "      <td>43</td>\n",
       "      <td>154</td>\n",
       "    </tr>\n",
       "    <tr>\n",
       "      <th>2</th>\n",
       "      <td>F</td>\n",
       "      <td>44</td>\n",
       "      <td>157</td>\n",
       "    </tr>\n",
       "    <tr>\n",
       "      <th>3</th>\n",
       "      <td>F</td>\n",
       "      <td>45</td>\n",
       "      <td>163</td>\n",
       "    </tr>\n",
       "    <tr>\n",
       "      <th>4</th>\n",
       "      <td>F</td>\n",
       "      <td>45</td>\n",
       "      <td>157</td>\n",
       "    </tr>\n",
       "    <tr>\n",
       "      <th>...</th>\n",
       "      <td>...</td>\n",
       "      <td>...</td>\n",
       "      <td>...</td>\n",
       "    </tr>\n",
       "    <tr>\n",
       "      <th>194</th>\n",
       "      <td>M</td>\n",
       "      <td>97</td>\n",
       "      <td>189</td>\n",
       "    </tr>\n",
       "    <tr>\n",
       "      <th>195</th>\n",
       "      <td>M</td>\n",
       "      <td>101</td>\n",
       "      <td>183</td>\n",
       "    </tr>\n",
       "    <tr>\n",
       "      <th>196</th>\n",
       "      <td>M</td>\n",
       "      <td>102</td>\n",
       "      <td>185</td>\n",
       "    </tr>\n",
       "    <tr>\n",
       "      <th>197</th>\n",
       "      <td>M</td>\n",
       "      <td>103</td>\n",
       "      <td>185</td>\n",
       "    </tr>\n",
       "    <tr>\n",
       "      <th>198</th>\n",
       "      <td>M</td>\n",
       "      <td>99</td>\n",
       "      <td>180</td>\n",
       "    </tr>\n",
       "  </tbody>\n",
       "</table>\n",
       "<p>199 rows × 3 columns</p>\n",
       "</div>"
      ],
      "text/plain": [
       "    gender  weight  height\n",
       "0        F      39     157\n",
       "1        F      43     154\n",
       "2        F      44     157\n",
       "3        F      45     163\n",
       "4        F      45     157\n",
       "..     ...     ...     ...\n",
       "194      M      97     189\n",
       "195      M     101     183\n",
       "196      M     102     185\n",
       "197      M     103     185\n",
       "198      M      99     180\n",
       "\n",
       "[199 rows x 3 columns]"
      ]
     },
     "execution_count": 3,
     "metadata": {},
     "output_type": "execute_result"
    }
   ],
   "source": [
    "df.drop(['id'],axis=1,inplace=True)\n",
    "df"
   ]
  },
  {
   "cell_type": "code",
   "execution_count": 4,
   "id": "d4d53b2c",
   "metadata": {},
   "outputs": [
    {
     "name": "stdout",
     "output_type": "stream",
     "text": [
      "<class 'pandas.core.frame.DataFrame'>\n",
      "RangeIndex: 199 entries, 0 to 198\n",
      "Data columns (total 3 columns):\n",
      " #   Column  Non-Null Count  Dtype \n",
      "---  ------  --------------  ----- \n",
      " 0   gender  199 non-null    object\n",
      " 1   weight  199 non-null    int64 \n",
      " 2   height  199 non-null    int64 \n",
      "dtypes: int64(2), object(1)\n",
      "memory usage: 4.8+ KB\n"
     ]
    }
   ],
   "source": [
    "df.info()"
   ]
  },
  {
   "cell_type": "code",
   "execution_count": 5,
   "id": "83a53ea2",
   "metadata": {},
   "outputs": [
    {
     "data": {
      "text/html": [
       "<div>\n",
       "<style scoped>\n",
       "    .dataframe tbody tr th:only-of-type {\n",
       "        vertical-align: middle;\n",
       "    }\n",
       "\n",
       "    .dataframe tbody tr th {\n",
       "        vertical-align: top;\n",
       "    }\n",
       "\n",
       "    .dataframe thead th {\n",
       "        text-align: right;\n",
       "    }\n",
       "</style>\n",
       "<table border=\"1\" class=\"dataframe\">\n",
       "  <thead>\n",
       "    <tr style=\"text-align: right;\">\n",
       "      <th></th>\n",
       "      <th>weight</th>\n",
       "      <th>height</th>\n",
       "    </tr>\n",
       "  </thead>\n",
       "  <tbody>\n",
       "    <tr>\n",
       "      <th>count</th>\n",
       "      <td>199.000000</td>\n",
       "      <td>199.000000</td>\n",
       "    </tr>\n",
       "    <tr>\n",
       "      <th>mean</th>\n",
       "      <td>65.195980</td>\n",
       "      <td>170.587940</td>\n",
       "    </tr>\n",
       "    <tr>\n",
       "      <th>std</th>\n",
       "      <td>13.008031</td>\n",
       "      <td>8.948848</td>\n",
       "    </tr>\n",
       "    <tr>\n",
       "      <th>min</th>\n",
       "      <td>39.000000</td>\n",
       "      <td>148.000000</td>\n",
       "    </tr>\n",
       "    <tr>\n",
       "      <th>25%</th>\n",
       "      <td>55.000000</td>\n",
       "      <td>164.000000</td>\n",
       "    </tr>\n",
       "    <tr>\n",
       "      <th>50%</th>\n",
       "      <td>63.000000</td>\n",
       "      <td>170.000000</td>\n",
       "    </tr>\n",
       "    <tr>\n",
       "      <th>75%</th>\n",
       "      <td>73.500000</td>\n",
       "      <td>177.500000</td>\n",
       "    </tr>\n",
       "    <tr>\n",
       "      <th>max</th>\n",
       "      <td>103.000000</td>\n",
       "      <td>197.000000</td>\n",
       "    </tr>\n",
       "  </tbody>\n",
       "</table>\n",
       "</div>"
      ],
      "text/plain": [
       "           weight      height\n",
       "count  199.000000  199.000000\n",
       "mean    65.195980  170.587940\n",
       "std     13.008031    8.948848\n",
       "min     39.000000  148.000000\n",
       "25%     55.000000  164.000000\n",
       "50%     63.000000  170.000000\n",
       "75%     73.500000  177.500000\n",
       "max    103.000000  197.000000"
      ]
     },
     "execution_count": 5,
     "metadata": {},
     "output_type": "execute_result"
    }
   ],
   "source": [
    "df.describe()"
   ]
  },
  {
   "cell_type": "code",
   "execution_count": 6,
   "id": "764325e9",
   "metadata": {},
   "outputs": [
    {
     "data": {
      "text/html": [
       "<div>\n",
       "<style scoped>\n",
       "    .dataframe tbody tr th:only-of-type {\n",
       "        vertical-align: middle;\n",
       "    }\n",
       "\n",
       "    .dataframe tbody tr th {\n",
       "        vertical-align: top;\n",
       "    }\n",
       "\n",
       "    .dataframe thead th {\n",
       "        text-align: right;\n",
       "    }\n",
       "</style>\n",
       "<table border=\"1\" class=\"dataframe\">\n",
       "  <thead>\n",
       "    <tr style=\"text-align: right;\">\n",
       "      <th></th>\n",
       "      <th>gender</th>\n",
       "    </tr>\n",
       "  </thead>\n",
       "  <tbody>\n",
       "    <tr>\n",
       "      <th>count</th>\n",
       "      <td>199</td>\n",
       "    </tr>\n",
       "    <tr>\n",
       "      <th>unique</th>\n",
       "      <td>2</td>\n",
       "    </tr>\n",
       "    <tr>\n",
       "      <th>top</th>\n",
       "      <td>F</td>\n",
       "    </tr>\n",
       "    <tr>\n",
       "      <th>freq</th>\n",
       "      <td>111</td>\n",
       "    </tr>\n",
       "  </tbody>\n",
       "</table>\n",
       "</div>"
      ],
      "text/plain": [
       "       gender\n",
       "count     199\n",
       "unique      2\n",
       "top         F\n",
       "freq      111"
      ]
     },
     "execution_count": 6,
     "metadata": {},
     "output_type": "execute_result"
    }
   ],
   "source": [
    "df.describe(include='object')"
   ]
  },
  {
   "cell_type": "code",
   "execution_count": 7,
   "id": "9e4220b2",
   "metadata": {},
   "outputs": [
    {
     "data": {
      "text/plain": [
       "gender    0\n",
       "weight    0\n",
       "height    0\n",
       "dtype: int64"
      ]
     },
     "execution_count": 7,
     "metadata": {},
     "output_type": "execute_result"
    }
   ],
   "source": [
    "df.isnull().sum()"
   ]
  },
  {
   "cell_type": "code",
   "execution_count": 8,
   "id": "52ede3d2",
   "metadata": {},
   "outputs": [
    {
     "data": {
      "text/plain": [
       "<seaborn.axisgrid.PairGrid at 0x211cb788070>"
      ]
     },
     "execution_count": 8,
     "metadata": {},
     "output_type": "execute_result"
    },
    {
     "data": {
      "image/png": "[encoded data removed]",
      "text/plain": [
       "<Figure size 500x500 with 6 Axes>"
      ]
     },
     "metadata": {},
     "output_type": "display_data"
    }
   ],
   "source": [
    "sb.pairplot(df)"
   ]
  },
  {
   "cell_type": "code",
   "execution_count": 9,
   "id": "6ea436fe",
   "metadata": {},
   "outputs": [
    {
     "data": {
      "text/plain": [
       "<AxesSubplot:xlabel='height', ylabel='weight'>"
      ]
     },
     "execution_count": 9,
     "metadata": {},
     "output_type": "execute_result"
    },
    {
     "data": {
      "image/png": "[encoded data removed]",
      "text/plain": [
       "<Figure size 640x480 with 1 Axes>"
      ]
     },
     "metadata": {},
     "output_type": "display_data"
    }
   ],
   "source": [
    "sb.regplot(x=df['height'],y=df['weight'])"
   ]
  },
  {
   "cell_type": "code",
   "execution_count": 10,
   "id": "a04de193",
   "metadata": {},
   "outputs": [
    {
     "name": "stderr",
     "output_type": "stream",
     "text": [
      "C:\\ProgramData\\Anaconda3\\lib\\site-packages\\seaborn\\_decorators.py:36: FutureWarning: Pass the following variable as a keyword arg: x. From version 0.12, the only valid positional argument will be `data`, and passing other arguments without an explicit keyword will result in an error or misinterpretation.\n",
      "  warnings.warn(\n"
     ]
    },
    {
     "data": {
      "text/plain": [
       "<AxesSubplot:xlabel='height'>"
      ]
     },
     "execution_count": 10,
     "metadata": {},
     "output_type": "execute_result"
    },
    {
     "data": {
      "image/png": "[encoded data removed]",
      "text/plain": [
       "<Figure size 640x480 with 1 Axes>"
      ]
     },
     "metadata": {},
     "output_type": "display_data"
    }
   ],
   "source": [
    "sb.boxplot(df['height'])"
   ]
  },
  {
   "cell_type": "code",
   "execution_count": 11,
   "id": "d4194a31",
   "metadata": {},
   "outputs": [
    {
     "name": "stderr",
     "output_type": "stream",
     "text": [
      "C:\\ProgramData\\Anaconda3\\lib\\site-packages\\seaborn\\_decorators.py:36: FutureWarning: Pass the following variable as a keyword arg: x. From version 0.12, the only valid positional argument will be `data`, and passing other arguments without an explicit keyword will result in an error or misinterpretation.\n",
      "  warnings.warn(\n"
     ]
    },
    {
     "data": {
      "text/plain": [
       "<AxesSubplot:xlabel='weight'>"
      ]
     },
     "execution_count": 11,
     "metadata": {},
     "output_type": "execute_result"
    },
    {
     "data": {
      "image/png": "[encoded data removed]",
      "text/plain": [
       "<Figure size 640x480 with 1 Axes>"
      ]
     },
     "metadata": {},
     "output_type": "display_data"
    }
   ],
   "source": [
    "sb.boxplot(df['weight'])"
   ]
  },
  {
   "cell_type": "code",
   "execution_count": 12,
   "id": "f6f128b1",
   "metadata": {},
   "outputs": [
    {
     "data": {
      "text/html": [
       "<div>\n",
       "<style scoped>\n",
       "    .dataframe tbody tr th:only-of-type {\n",
       "        vertical-align: middle;\n",
       "    }\n",
       "\n",
       "    .dataframe tbody tr th {\n",
       "        vertical-align: top;\n",
       "    }\n",
       "\n",
       "    .dataframe thead th {\n",
       "        text-align: right;\n",
       "    }\n",
       "</style>\n",
       "<table border=\"1\" class=\"dataframe\">\n",
       "  <thead>\n",
       "    <tr style=\"text-align: right;\">\n",
       "      <th></th>\n",
       "      <th>F</th>\n",
       "      <th>M</th>\n",
       "    </tr>\n",
       "  </thead>\n",
       "  <tbody>\n",
       "    <tr>\n",
       "      <th>0</th>\n",
       "      <td>1</td>\n",
       "      <td>0</td>\n",
       "    </tr>\n",
       "    <tr>\n",
       "      <th>1</th>\n",
       "      <td>1</td>\n",
       "      <td>0</td>\n",
       "    </tr>\n",
       "    <tr>\n",
       "      <th>2</th>\n",
       "      <td>1</td>\n",
       "      <td>0</td>\n",
       "    </tr>\n",
       "    <tr>\n",
       "      <th>3</th>\n",
       "      <td>1</td>\n",
       "      <td>0</td>\n",
       "    </tr>\n",
       "    <tr>\n",
       "      <th>4</th>\n",
       "      <td>1</td>\n",
       "      <td>0</td>\n",
       "    </tr>\n",
       "    <tr>\n",
       "      <th>...</th>\n",
       "      <td>...</td>\n",
       "      <td>...</td>\n",
       "    </tr>\n",
       "    <tr>\n",
       "      <th>194</th>\n",
       "      <td>0</td>\n",
       "      <td>1</td>\n",
       "    </tr>\n",
       "    <tr>\n",
       "      <th>195</th>\n",
       "      <td>0</td>\n",
       "      <td>1</td>\n",
       "    </tr>\n",
       "    <tr>\n",
       "      <th>196</th>\n",
       "      <td>0</td>\n",
       "      <td>1</td>\n",
       "    </tr>\n",
       "    <tr>\n",
       "      <th>197</th>\n",
       "      <td>0</td>\n",
       "      <td>1</td>\n",
       "    </tr>\n",
       "    <tr>\n",
       "      <th>198</th>\n",
       "      <td>0</td>\n",
       "      <td>1</td>\n",
       "    </tr>\n",
       "  </tbody>\n",
       "</table>\n",
       "<p>199 rows × 2 columns</p>\n",
       "</div>"
      ],
      "text/plain": [
       "     F  M\n",
       "0    1  0\n",
       "1    1  0\n",
       "2    1  0\n",
       "3    1  0\n",
       "4    1  0\n",
       "..  .. ..\n",
       "194  0  1\n",
       "195  0  1\n",
       "196  0  1\n",
       "197  0  1\n",
       "198  0  1\n",
       "\n",
       "[199 rows x 2 columns]"
      ]
     },
     "execution_count": 12,
     "metadata": {},
     "output_type": "execute_result"
    }
   ],
   "source": [
    "d_gender = pd.get_dummies(df['gender'])\n",
    "d_gender"
   ]
  },
  {
   "cell_type": "code",
   "execution_count": 13,
   "id": "c9131478",
   "metadata": {},
   "outputs": [
    {
     "data": {
      "text/plain": [
       "0.7449402052268245"
      ]
     },
     "execution_count": 13,
     "metadata": {},
     "output_type": "execute_result"
    }
   ],
   "source": [
    "df['weight'].skew()"
   ]
  },
  {
   "cell_type": "code",
   "execution_count": 14,
   "id": "b3dcbc4d",
   "metadata": {},
   "outputs": [
    {
     "data": {
      "text/plain": [
       "0.2129090698591845"
      ]
     },
     "execution_count": 14,
     "metadata": {},
     "output_type": "execute_result"
    }
   ],
   "source": [
    "df['height'].skew()"
   ]
  },
  {
   "cell_type": "code",
   "execution_count": 15,
   "id": "16b2fb35",
   "metadata": {},
   "outputs": [
    {
     "data": {
      "text/plain": [
       "0      157\n",
       "1      154\n",
       "2      157\n",
       "3      163\n",
       "4      157\n",
       "      ... \n",
       "194    189\n",
       "195    183\n",
       "196    185\n",
       "197    185\n",
       "198    180\n",
       "Name: height, Length: 199, dtype: int64"
      ]
     },
     "execution_count": 15,
     "metadata": {},
     "output_type": "execute_result"
    }
   ],
   "source": [
    "df1 = df['height']\n",
    "df1"
   ]
  },
  {
   "cell_type": "code",
   "execution_count": 16,
   "id": "ec692d64",
   "metadata": {},
   "outputs": [],
   "source": [
    "X = pd.concat((d_gender,df1),axis=1)\n",
    "X.drop(['F'],axis=1,inplace=True)"
   ]
  },
  {
   "cell_type": "code",
   "execution_count": 17,
   "id": "ea755d48",
   "metadata": {},
   "outputs": [
    {
     "data": {
      "text/plain": [
       "0       39\n",
       "1       43\n",
       "2       44\n",
       "3       45\n",
       "4       45\n",
       "      ... \n",
       "194     97\n",
       "195    101\n",
       "196    102\n",
       "197    103\n",
       "198     99\n",
       "Name: weight, Length: 199, dtype: int64"
      ]
     },
     "execution_count": 17,
     "metadata": {},
     "output_type": "execute_result"
    }
   ],
   "source": [
    "Y = df['weight']\n",
    "Y"
   ]
  },
  {
   "cell_type": "code",
   "execution_count": 18,
   "id": "7fafa8f6",
   "metadata": {},
   "outputs": [
    {
     "data": {
      "text/plain": [
       "((159, 2), (40, 2), (159,), (40,))"
      ]
     },
     "execution_count": 18,
     "metadata": {},
     "output_type": "execute_result"
    }
   ],
   "source": [
    "from sklearn.model_selection import train_test_split\n",
    "X_train,X_test,Y_train,Y_test = train_test_split(X,Y,train_size=0.8,random_state=0)\n",
    "X_train.shape,X_test.shape,Y_train.shape,Y_test.shape"
   ]
  },
  {
   "cell_type": "markdown",
   "id": "e9dbacc3",
   "metadata": {},
   "source": [
    "# LinearRegression :"
   ]
  },
  {
   "cell_type": "code",
   "execution_count": 19,
   "id": "aac91f11",
   "metadata": {},
   "outputs": [
    {
     "name": "stdout",
     "output_type": "stream",
     "text": [
      "[8.70863365 0.750317  ]\n"
     ]
    }
   ],
   "source": [
    "from sklearn.linear_model import LinearRegression\n",
    "lr = LinearRegression()\n",
    "lr.fit(X_train,Y_train)\n",
    "print(lr.coef_)"
   ]
  },
  {
   "cell_type": "code",
   "execution_count": 20,
   "id": "dd952478",
   "metadata": {},
   "outputs": [
    {
     "name": "stdout",
     "output_type": "stream",
     "text": [
      "-66.72168320763846\n"
     ]
    }
   ],
   "source": [
    "print(lr.intercept_)"
   ]
  },
  {
   "cell_type": "markdown",
   "id": "e69a36a5",
   "metadata": {},
   "source": [
    "# Model Testing :"
   ]
  },
  {
   "cell_type": "code",
   "execution_count": 21,
   "id": "d0a2c37c",
   "metadata": {},
   "outputs": [
    {
     "data": {
      "text/plain": [
       "array([54.07935446, 75.54337719, 57.08062248, 59.33157349, 80.04527921,\n",
       "       80.79559622, 55.57998847, 71.79179217, 57.83093948, 79.29496221,\n",
       "       54.82967147, 76.29369419, 75.54337719, 77.0440112 , 54.82967147,\n",
       "       54.82967147, 57.08062248, 61.5825245 , 56.33030547, 57.83093948,\n",
       "       68.79052415, 74.79306018, 68.04020715, 58.58125649, 64.28862212,\n",
       "       69.54084115, 77.0440112 , 75.54337719, 60.0818905 , 57.08062248,\n",
       "       44.32523341, 55.57998847, 62.33284151, 61.5825245 , 56.33030547,\n",
       "       71.79179217, 77.0440112 , 51.07808645, 71.04147516, 85.29749824])"
      ]
     },
     "execution_count": 21,
     "metadata": {},
     "output_type": "execute_result"
    }
   ],
   "source": [
    "Y_pre = lr.predict(X_test)\n",
    "Y_pre"
   ]
  },
  {
   "cell_type": "code",
   "execution_count": 22,
   "id": "ece90215",
   "metadata": {},
   "outputs": [],
   "source": [
    "from sklearn.metrics import mean_squared_error,r2_score,mean_absolute_error"
   ]
  },
  {
   "cell_type": "code",
   "execution_count": 23,
   "id": "8f913a02",
   "metadata": {},
   "outputs": [
    {
     "name": "stdout",
     "output_type": "stream",
     "text": [
      "mean_squared_error is = 49.1749585554267\n",
      "mean_absolute_error is = 5.742367136783505\n",
      "r2_value is = 0.7089334938047223\n",
      "root_mean_squared_error is = 24.58747927771335\n"
     ]
    }
   ],
   "source": [
    "mse = mean_squared_error(Y_test,Y_pre)\n",
    "mae = mean_absolute_error(Y_test,Y_pre)\n",
    "r2_value = r2_score(Y_test,Y_pre)\n",
    "rmse = (mse)**1/2\n",
    "\n",
    "print('mean_squared_error is = '+str(mse))\n",
    "print('mean_absolute_error is = '+str(mae))\n",
    "print('r2_value is = '+str(r2_value))\n",
    "print('root_mean_squared_error is = '+str(rmse))"
   ]
  },
  {
   "cell_type": "markdown",
   "id": "bf7ff2c0",
   "metadata": {},
   "source": [
    "# Actual VS Predict (Test Data) :"
   ]
  },
  {
   "cell_type": "code",
   "execution_count": 24,
   "id": "e72cc733",
   "metadata": {},
   "outputs": [
    {
     "data": {
      "text/html": [
       "<div>\n",
       "<style scoped>\n",
       "    .dataframe tbody tr th:only-of-type {\n",
       "        vertical-align: middle;\n",
       "    }\n",
       "\n",
       "    .dataframe tbody tr th {\n",
       "        vertical-align: top;\n",
       "    }\n",
       "\n",
       "    .dataframe thead th {\n",
       "        text-align: right;\n",
       "    }\n",
       "</style>\n",
       "<table border=\"1\" class=\"dataframe\">\n",
       "  <thead>\n",
       "    <tr style=\"text-align: right;\">\n",
       "      <th></th>\n",
       "      <th>Actual Weight</th>\n",
       "      <th>Predict Weight</th>\n",
       "    </tr>\n",
       "  </thead>\n",
       "  <tbody>\n",
       "    <tr>\n",
       "      <th>18</th>\n",
       "      <td>51</td>\n",
       "      <td>54.079354</td>\n",
       "    </tr>\n",
       "    <tr>\n",
       "      <th>169</th>\n",
       "      <td>80</td>\n",
       "      <td>75.543377</td>\n",
       "    </tr>\n",
       "    <tr>\n",
       "      <th>106</th>\n",
       "      <td>64</td>\n",
       "      <td>57.080622</td>\n",
       "    </tr>\n",
       "    <tr>\n",
       "      <th>92</th>\n",
       "      <td>62</td>\n",
       "      <td>59.331573</td>\n",
       "    </tr>\n",
       "    <tr>\n",
       "      <th>176</th>\n",
       "      <td>83</td>\n",
       "      <td>80.045279</td>\n",
       "    </tr>\n",
       "    <tr>\n",
       "      <th>183</th>\n",
       "      <td>87</td>\n",
       "      <td>80.795596</td>\n",
       "    </tr>\n",
       "    <tr>\n",
       "      <th>5</th>\n",
       "      <td>47</td>\n",
       "      <td>55.579988</td>\n",
       "    </tr>\n",
       "    <tr>\n",
       "      <th>139</th>\n",
       "      <td>70</td>\n",
       "      <td>71.791792</td>\n",
       "    </tr>\n",
       "    <tr>\n",
       "      <th>12</th>\n",
       "      <td>50</td>\n",
       "      <td>57.830939</td>\n",
       "    </tr>\n",
       "    <tr>\n",
       "      <th>160</th>\n",
       "      <td>76</td>\n",
       "      <td>79.294962</td>\n",
       "    </tr>\n",
       "    <tr>\n",
       "      <th>61</th>\n",
       "      <td>56</td>\n",
       "      <td>54.829671</td>\n",
       "    </tr>\n",
       "    <tr>\n",
       "      <th>124</th>\n",
       "      <td>67</td>\n",
       "      <td>76.293694</td>\n",
       "    </tr>\n",
       "    <tr>\n",
       "      <th>164</th>\n",
       "      <td>78</td>\n",
       "      <td>75.543377</td>\n",
       "    </tr>\n",
       "    <tr>\n",
       "      <th>145</th>\n",
       "      <td>71</td>\n",
       "      <td>77.044011</td>\n",
       "    </tr>\n",
       "    <tr>\n",
       "      <th>80</th>\n",
       "      <td>60</td>\n",
       "      <td>54.829671</td>\n",
       "    </tr>\n",
       "    <tr>\n",
       "      <th>7</th>\n",
       "      <td>47</td>\n",
       "      <td>54.829671</td>\n",
       "    </tr>\n",
       "    <tr>\n",
       "      <th>33</th>\n",
       "      <td>53</td>\n",
       "      <td>57.080622</td>\n",
       "    </tr>\n",
       "    <tr>\n",
       "      <th>129</th>\n",
       "      <td>68</td>\n",
       "      <td>61.582525</td>\n",
       "    </tr>\n",
       "    <tr>\n",
       "      <th>37</th>\n",
       "      <td>54</td>\n",
       "      <td>56.330305</td>\n",
       "    </tr>\n",
       "    <tr>\n",
       "      <th>74</th>\n",
       "      <td>59</td>\n",
       "      <td>57.830939</td>\n",
       "    </tr>\n",
       "    <tr>\n",
       "      <th>159</th>\n",
       "      <td>76</td>\n",
       "      <td>68.790524</td>\n",
       "    </tr>\n",
       "    <tr>\n",
       "      <th>144</th>\n",
       "      <td>71</td>\n",
       "      <td>74.793060</td>\n",
       "    </tr>\n",
       "    <tr>\n",
       "      <th>45</th>\n",
       "      <td>55</td>\n",
       "      <td>68.040207</td>\n",
       "    </tr>\n",
       "    <tr>\n",
       "      <th>158</th>\n",
       "      <td>76</td>\n",
       "      <td>58.581256</td>\n",
       "    </tr>\n",
       "    <tr>\n",
       "      <th>60</th>\n",
       "      <td>56</td>\n",
       "      <td>64.288622</td>\n",
       "    </tr>\n",
       "    <tr>\n",
       "      <th>122</th>\n",
       "      <td>66</td>\n",
       "      <td>69.540841</td>\n",
       "    </tr>\n",
       "    <tr>\n",
       "      <th>178</th>\n",
       "      <td>83</td>\n",
       "      <td>77.044011</td>\n",
       "    </tr>\n",
       "    <tr>\n",
       "      <th>184</th>\n",
       "      <td>88</td>\n",
       "      <td>75.543377</td>\n",
       "    </tr>\n",
       "    <tr>\n",
       "      <th>97</th>\n",
       "      <td>63</td>\n",
       "      <td>60.081890</td>\n",
       "    </tr>\n",
       "    <tr>\n",
       "      <th>44</th>\n",
       "      <td>55</td>\n",
       "      <td>57.080622</td>\n",
       "    </tr>\n",
       "    <tr>\n",
       "      <th>16</th>\n",
       "      <td>50</td>\n",
       "      <td>44.325233</td>\n",
       "    </tr>\n",
       "    <tr>\n",
       "      <th>55</th>\n",
       "      <td>56</td>\n",
       "      <td>55.579988</td>\n",
       "    </tr>\n",
       "    <tr>\n",
       "      <th>83</th>\n",
       "      <td>60</td>\n",
       "      <td>62.332842</td>\n",
       "    </tr>\n",
       "    <tr>\n",
       "      <th>110</th>\n",
       "      <td>64</td>\n",
       "      <td>61.582525</td>\n",
       "    </tr>\n",
       "    <tr>\n",
       "      <th>22</th>\n",
       "      <td>52</td>\n",
       "      <td>56.330305</td>\n",
       "    </tr>\n",
       "    <tr>\n",
       "      <th>188</th>\n",
       "      <td>89</td>\n",
       "      <td>71.791792</td>\n",
       "    </tr>\n",
       "    <tr>\n",
       "      <th>135</th>\n",
       "      <td>69</td>\n",
       "      <td>77.044011</td>\n",
       "    </tr>\n",
       "    <tr>\n",
       "      <th>4</th>\n",
       "      <td>45</td>\n",
       "      <td>51.078086</td>\n",
       "    </tr>\n",
       "    <tr>\n",
       "      <th>137</th>\n",
       "      <td>69</td>\n",
       "      <td>71.041475</td>\n",
       "    </tr>\n",
       "    <tr>\n",
       "      <th>193</th>\n",
       "      <td>96</td>\n",
       "      <td>85.297498</td>\n",
       "    </tr>\n",
       "  </tbody>\n",
       "</table>\n",
       "</div>"
      ],
      "text/plain": [
       "     Actual Weight  Predict Weight\n",
       "18              51       54.079354\n",
       "169             80       75.543377\n",
       "106             64       57.080622\n",
       "92              62       59.331573\n",
       "176             83       80.045279\n",
       "183             87       80.795596\n",
       "5               47       55.579988\n",
       "139             70       71.791792\n",
       "12              50       57.830939\n",
       "160             76       79.294962\n",
       "61              56       54.829671\n",
       "124             67       76.293694\n",
       "164             78       75.543377\n",
       "145             71       77.044011\n",
       "80              60       54.829671\n",
       "7               47       54.829671\n",
       "33              53       57.080622\n",
       "129             68       61.582525\n",
       "37              54       56.330305\n",
       "74              59       57.830939\n",
       "159             76       68.790524\n",
       "144             71       74.793060\n",
       "45              55       68.040207\n",
       "158             76       58.581256\n",
       "60              56       64.288622\n",
       "122             66       69.540841\n",
       "178             83       77.044011\n",
       "184             88       75.543377\n",
       "97              63       60.081890\n",
       "44              55       57.080622\n",
       "16              50       44.325233\n",
       "55              56       55.579988\n",
       "83              60       62.332842\n",
       "110             64       61.582525\n",
       "22              52       56.330305\n",
       "188             89       71.791792\n",
       "135             69       77.044011\n",
       "4               45       51.078086\n",
       "137             69       71.041475\n",
       "193             96       85.297498"
      ]
     },
     "execution_count": 24,
     "metadata": {},
     "output_type": "execute_result"
    }
   ],
   "source": [
    "df2 = pd.DataFrame({'Actual Weight' : Y_test,'Predict Weight' : Y_pre})\n",
    "df2"
   ]
  },
  {
   "cell_type": "code",
   "execution_count": 25,
   "id": "9d77ca78",
   "metadata": {},
   "outputs": [
    {
     "data": {
      "text/plain": [
       "<AxesSubplot:xlabel='Actual Weight', ylabel='Predict Weight'>"
      ]
     },
     "execution_count": 25,
     "metadata": {},
     "output_type": "execute_result"
    },
    {
     "data": {
      "image/png": "[encoded data removed]",
      "text/plain": [
       "<Figure size 640x480 with 1 Axes>"
      ]
     },
     "metadata": {},
     "output_type": "display_data"
    }
   ],
   "source": [
    "sb.regplot(x='Actual Weight' , y='Predict Weight' , data=df2)"
   ]
  },
  {
   "cell_type": "code",
   "execution_count": 26,
   "id": "4b112e25",
   "metadata": {},
   "outputs": [
    {
     "data": {
      "text/plain": [
       "array([71.04147516, 59.33157349, 60.0818905 , 81.54591322, 75.54337719,\n",
       "       55.57998847, 45.82586742, 51.07808645, 55.57998847, 76.29369419,\n",
       "       60.0818905 , 80.79559622, 57.08062248, 56.33030547, 68.79052415,\n",
       "       52.57872045, 57.08062248, 73.29242617, 65.33410952, 60.8322075 ,\n",
       "       72.54210917, 85.29749824, 79.29496221, 55.57998847, 54.82967147,\n",
       "       67.28989014, 57.08062248, 79.29496221, 57.08062248, 57.83093948,\n",
       "       73.29242617, 64.58379252, 75.54337719, 76.29369419, 57.83093948,\n",
       "       76.29369419, 57.83093948, 53.32903746, 55.57998847, 60.8322075 ,\n",
       "       60.8322075 , 49.57745244, 83.79686423, 56.33030547, 71.79179217,\n",
       "       51.07808645, 53.32903746, 78.5446452 , 60.0818905 , 55.57998847,\n",
       "       54.07935446, 80.04527921, 78.5446452 , 82.29623022, 74.79306018,\n",
       "       74.79306018, 74.79306018, 57.83093948, 70.29115816, 89.79940027,\n",
       "       77.7943282 , 53.32903746, 51.07808645, 58.58125649, 62.33284151,\n",
       "       68.04020715, 54.82967147, 71.79179217, 68.79052415, 57.83093948,\n",
       "       57.08062248, 63.83347552, 60.8322075 , 61.5825245 , 73.29242617,\n",
       "       51.82840345, 83.79686423, 79.29496221, 50.32776944, 60.0818905 ,\n",
       "       52.57872045, 74.04274318, 54.82967147, 75.54337719, 60.8322075 ,\n",
       "       55.57998847, 75.54337719, 63.08315851, 80.79559622, 48.07681843,\n",
       "       54.07935446, 64.58379252, 57.83093948, 68.79052415, 74.04274318,\n",
       "       69.54084115, 64.58379252, 75.54337719, 57.83093948, 71.79179217,\n",
       "       57.08062248, 51.82840345, 54.07935446, 58.58125649, 48.82713543,\n",
       "       73.29242617, 78.5446452 , 54.07935446, 74.79306018, 72.54210917,\n",
       "       77.0440112 , 51.82840345, 53.32903746, 78.5446452 , 57.83093948,\n",
       "       67.28989014, 66.83474353, 54.82967147, 54.07935446, 82.29623022,\n",
       "       75.54337719, 56.33030547, 80.04527921, 65.78925613, 77.7943282 ,\n",
       "       54.82967147, 75.54337719, 75.54337719, 77.0440112 , 60.0818905 ,\n",
       "       53.32903746, 63.83347552, 56.33030547, 74.04274318, 79.29496221,\n",
       "       79.29496221, 51.07808645, 62.33284151, 47.32650142, 71.79179217,\n",
       "       58.58125649, 80.79559622, 74.04274318, 83.04654723, 63.83347552,\n",
       "       57.08062248, 63.08315851, 59.33157349, 60.0818905 , 69.54084115,\n",
       "       61.5825245 , 55.57998847, 55.57998847, 59.33157349, 58.58125649,\n",
       "       80.04527921, 71.79179217, 56.33030547, 73.29242617])"
      ]
     },
     "execution_count": 26,
     "metadata": {},
     "output_type": "execute_result"
    }
   ],
   "source": [
    "Y_train_pre = lr.predict(X_train)\n",
    "Y_train_pre"
   ]
  },
  {
   "cell_type": "code",
   "execution_count": 27,
   "id": "aa6bd10d",
   "metadata": {},
   "outputs": [
    {
     "name": "stdout",
     "output_type": "stream",
     "text": [
      "mean_squared_error is = 60.42042427178182\n",
      "mean_absolute_error is = 6.0763499522871385\n",
      "r2_value is = 0.6407202240099643\n",
      "root_mean_squared_error is = 30.21021213589091\n"
     ]
    },
    {
     "data": {
      "text/plain": [
       "'High bairs low variance'"
      ]
     },
     "execution_count": 27,
     "metadata": {},
     "output_type": "execute_result"
    }
   ],
   "source": [
    "mse1 = mean_squared_error(Y_train,Y_train_pre)\n",
    "mae1 = mean_absolute_error(Y_train,Y_train_pre)\n",
    "r2value = r2_score(Y_train,Y_train_pre)\n",
    "rmse1 = (mse1)**1/2\n",
    "\n",
    "print('mean_squared_error is = '+str(mse1))\n",
    "print('mean_absolute_error is = '+str(mae1))\n",
    "print('r2_value is = '+str(r2value))\n",
    "print('root_mean_squared_error is = '+str(rmse1)) \n",
    "\n",
    "'''High bairs low variance'''      "
   ]
  },
  {
   "cell_type": "markdown",
   "id": "7a07e657",
   "metadata": {},
   "source": [
    "# Actual vs Predict (Train Data) :"
   ]
  },
  {
   "cell_type": "code",
   "execution_count": 28,
   "id": "b18f478b",
   "metadata": {},
   "outputs": [
    {
     "data": {
      "text/html": [
       "<div>\n",
       "<style scoped>\n",
       "    .dataframe tbody tr th:only-of-type {\n",
       "        vertical-align: middle;\n",
       "    }\n",
       "\n",
       "    .dataframe tbody tr th {\n",
       "        vertical-align: top;\n",
       "    }\n",
       "\n",
       "    .dataframe thead th {\n",
       "        text-align: right;\n",
       "    }\n",
       "</style>\n",
       "<table border=\"1\" class=\"dataframe\">\n",
       "  <thead>\n",
       "    <tr style=\"text-align: right;\">\n",
       "      <th></th>\n",
       "      <th>Actual Weight</th>\n",
       "      <th>Predict Weight</th>\n",
       "    </tr>\n",
       "  </thead>\n",
       "  <tbody>\n",
       "    <tr>\n",
       "      <th>153</th>\n",
       "      <td>75</td>\n",
       "      <td>71.041475</td>\n",
       "    </tr>\n",
       "    <tr>\n",
       "      <th>66</th>\n",
       "      <td>57</td>\n",
       "      <td>59.331573</td>\n",
       "    </tr>\n",
       "    <tr>\n",
       "      <th>26</th>\n",
       "      <td>52</td>\n",
       "      <td>60.081890</td>\n",
       "    </tr>\n",
       "    <tr>\n",
       "      <th>131</th>\n",
       "      <td>69</td>\n",
       "      <td>81.545913</td>\n",
       "    </tr>\n",
       "    <tr>\n",
       "      <th>146</th>\n",
       "      <td>71</td>\n",
       "      <td>75.543377</td>\n",
       "    </tr>\n",
       "    <tr>\n",
       "      <th>...</th>\n",
       "      <td>...</td>\n",
       "      <td>...</td>\n",
       "    </tr>\n",
       "    <tr>\n",
       "      <th>67</th>\n",
       "      <td>57</td>\n",
       "      <td>58.581256</td>\n",
       "    </tr>\n",
       "    <tr>\n",
       "      <th>192</th>\n",
       "      <td>96</td>\n",
       "      <td>80.045279</td>\n",
       "    </tr>\n",
       "    <tr>\n",
       "      <th>117</th>\n",
       "      <td>66</td>\n",
       "      <td>71.791792</td>\n",
       "    </tr>\n",
       "    <tr>\n",
       "      <th>47</th>\n",
       "      <td>55</td>\n",
       "      <td>56.330305</td>\n",
       "    </tr>\n",
       "    <tr>\n",
       "      <th>172</th>\n",
       "      <td>81</td>\n",
       "      <td>73.292426</td>\n",
       "    </tr>\n",
       "  </tbody>\n",
       "</table>\n",
       "<p>159 rows × 2 columns</p>\n",
       "</div>"
      ],
      "text/plain": [
       "     Actual Weight  Predict Weight\n",
       "153             75       71.041475\n",
       "66              57       59.331573\n",
       "26              52       60.081890\n",
       "131             69       81.545913\n",
       "146             71       75.543377\n",
       "..             ...             ...\n",
       "67              57       58.581256\n",
       "192             96       80.045279\n",
       "117             66       71.791792\n",
       "47              55       56.330305\n",
       "172             81       73.292426\n",
       "\n",
       "[159 rows x 2 columns]"
      ]
     },
     "execution_count": 28,
     "metadata": {},
     "output_type": "execute_result"
    }
   ],
   "source": [
    "df3 = pd.DataFrame({'Actual Weight' : Y_train , 'Predict Weight' : Y_train_pre})\n",
    "df3"
   ]
  },
  {
   "cell_type": "code",
   "execution_count": 29,
   "id": "e58a1b90",
   "metadata": {},
   "outputs": [
    {
     "data": {
      "text/plain": [
       "<AxesSubplot:xlabel='Actual Weight', ylabel='Predict Weight'>"
      ]
     },
     "execution_count": 29,
     "metadata": {},
     "output_type": "execute_result"
    },
    {
     "data": {
      "image/png": "[encoded data removed]",
      "text/plain": [
       "<Figure size 640x480 with 1 Axes>"
      ]
     },
     "metadata": {},
     "output_type": "display_data"
    }
   ],
   "source": [
    "sb.regplot(x='Actual Weight',y='Predict Weight' , data=df3)"
   ]
  },
  {
   "cell_type": "markdown",
   "id": "993d5c0a",
   "metadata": {},
   "source": [
    "# Tested Data Adjusted_R2 Value :"
   ]
  },
  {
   "cell_type": "code",
   "execution_count": 30,
   "id": "bd7044c7",
   "metadata": {},
   "outputs": [
    {
     "data": {
      "text/plain": [
       "0.6932001691455181"
      ]
     },
     "execution_count": 30,
     "metadata": {},
     "output_type": "execute_result"
    }
   ],
   "source": [
    "Adjusted_r2=1-(1-r2_value)*(len(Y_test)-1)/(len(Y_test)-X_test.shape[1]-1)\n",
    "Adjusted_r2"
   ]
  },
  {
   "cell_type": "markdown",
   "id": "0c8284e6",
   "metadata": {},
   "source": [
    "# Ridger Regression (The Accepted Model) :"
   ]
  },
  {
   "cell_type": "code",
   "execution_count": 31,
   "id": "fb3c25ee",
   "metadata": {},
   "outputs": [
    {
     "name": "stdout",
     "output_type": "stream",
     "text": [
      "-69.80001938066967\n",
      "[8.23746192 0.76955291]\n"
     ]
    }
   ],
   "source": [
    "from sklearn.linear_model import Ridge\n",
    "rid = Ridge()\n",
    "rid.fit(X_train,Y_train)\n",
    "print(rid.intercept_)\n",
    "print(rid.coef_)"
   ]
  },
  {
   "cell_type": "code",
   "execution_count": 32,
   "id": "6600a531",
   "metadata": {},
   "outputs": [
    {
     "data": {
      "text/plain": [
       "array([54.09799911, 75.41786049, 57.17621075, 59.48486948, 80.03517795,\n",
       "       80.80473086, 55.63710493, 71.57009594, 57.94576366, 79.26562504,\n",
       "       54.86755202, 76.1874134 , 75.41786049, 76.95696631, 54.86755202,\n",
       "       54.86755202, 57.17621075, 61.79352821, 56.40665784, 57.94576366,\n",
       "       68.4918843 , 74.64830758, 67.7223314 , 58.71531657, 63.87456685,\n",
       "       69.26143721, 76.95696631, 75.41786049, 60.25442239, 57.17621075,\n",
       "       44.09381128, 55.63710493, 62.56308112, 61.79352821, 56.40665784,\n",
       "       71.57009594, 76.95696631, 51.01978747, 70.80054303, 85.42204832])"
      ]
     },
     "execution_count": 32,
     "metadata": {},
     "output_type": "execute_result"
    }
   ],
   "source": [
    "y_rid_pre = rid.predict(X_test)\n",
    "y_rid_pre\n"
   ]
  },
  {
   "cell_type": "code",
   "execution_count": 33,
   "id": "483df5fb",
   "metadata": {},
   "outputs": [
    {
     "name": "stdout",
     "output_type": "stream",
     "text": [
      "mean_squared_error is = 48.871885551329036\n",
      "mean_absolute_error is = 5.709428347118906\n",
      "r2_value is = 0.7107273824630194\n",
      "root_mean_squared_error is = 24.435942775664518\n",
      "adjusted r2 value is = 0.6950910247583177\n"
     ]
    }
   ],
   "source": [
    "mse2 = mean_squared_error(Y_test,y_rid_pre)\n",
    "mae2 = mean_absolute_error(Y_test,y_rid_pre)\n",
    "r2_Value_2 = r2_score(Y_test,y_rid_pre)\n",
    "rmse2 = (mse2)**1/2\n",
    "ad_r2=1-(1-r2_Value_2)*(len(Y_test)-1)/(len(Y_test)-X_test.shape[1]-1)\n",
    "\n",
    "print('mean_squared_error is = '+str(mse2))\n",
    "print('mean_absolute_error is = '+str(mae2))\n",
    "print('r2_value is = '+str(r2_Value_2))\n",
    "print('root_mean_squared_error is = '+str(rmse2))\n",
    "print('adjusted r2 value is = '+str(ad_r2))"
   ]
  },
  {
   "cell_type": "code",
   "execution_count": 34,
   "id": "5bcb34d0",
   "metadata": {},
   "outputs": [
    {
     "data": {
      "text/html": [
       "<div>\n",
       "<style scoped>\n",
       "    .dataframe tbody tr th:only-of-type {\n",
       "        vertical-align: middle;\n",
       "    }\n",
       "\n",
       "    .dataframe tbody tr th {\n",
       "        vertical-align: top;\n",
       "    }\n",
       "\n",
       "    .dataframe thead th {\n",
       "        text-align: right;\n",
       "    }\n",
       "</style>\n",
       "<table border=\"1\" class=\"dataframe\">\n",
       "  <thead>\n",
       "    <tr style=\"text-align: right;\">\n",
       "      <th></th>\n",
       "      <th>Actual Weight</th>\n",
       "      <th>Predict Weight</th>\n",
       "    </tr>\n",
       "  </thead>\n",
       "  <tbody>\n",
       "    <tr>\n",
       "      <th>18</th>\n",
       "      <td>51</td>\n",
       "      <td>54.097999</td>\n",
       "    </tr>\n",
       "    <tr>\n",
       "      <th>169</th>\n",
       "      <td>80</td>\n",
       "      <td>75.417860</td>\n",
       "    </tr>\n",
       "    <tr>\n",
       "      <th>106</th>\n",
       "      <td>64</td>\n",
       "      <td>57.176211</td>\n",
       "    </tr>\n",
       "    <tr>\n",
       "      <th>92</th>\n",
       "      <td>62</td>\n",
       "      <td>59.484869</td>\n",
       "    </tr>\n",
       "    <tr>\n",
       "      <th>176</th>\n",
       "      <td>83</td>\n",
       "      <td>80.035178</td>\n",
       "    </tr>\n",
       "    <tr>\n",
       "      <th>183</th>\n",
       "      <td>87</td>\n",
       "      <td>80.804731</td>\n",
       "    </tr>\n",
       "    <tr>\n",
       "      <th>5</th>\n",
       "      <td>47</td>\n",
       "      <td>55.637105</td>\n",
       "    </tr>\n",
       "    <tr>\n",
       "      <th>139</th>\n",
       "      <td>70</td>\n",
       "      <td>71.570096</td>\n",
       "    </tr>\n",
       "    <tr>\n",
       "      <th>12</th>\n",
       "      <td>50</td>\n",
       "      <td>57.945764</td>\n",
       "    </tr>\n",
       "    <tr>\n",
       "      <th>160</th>\n",
       "      <td>76</td>\n",
       "      <td>79.265625</td>\n",
       "    </tr>\n",
       "    <tr>\n",
       "      <th>61</th>\n",
       "      <td>56</td>\n",
       "      <td>54.867552</td>\n",
       "    </tr>\n",
       "    <tr>\n",
       "      <th>124</th>\n",
       "      <td>67</td>\n",
       "      <td>76.187413</td>\n",
       "    </tr>\n",
       "    <tr>\n",
       "      <th>164</th>\n",
       "      <td>78</td>\n",
       "      <td>75.417860</td>\n",
       "    </tr>\n",
       "    <tr>\n",
       "      <th>145</th>\n",
       "      <td>71</td>\n",
       "      <td>76.956966</td>\n",
       "    </tr>\n",
       "    <tr>\n",
       "      <th>80</th>\n",
       "      <td>60</td>\n",
       "      <td>54.867552</td>\n",
       "    </tr>\n",
       "    <tr>\n",
       "      <th>7</th>\n",
       "      <td>47</td>\n",
       "      <td>54.867552</td>\n",
       "    </tr>\n",
       "    <tr>\n",
       "      <th>33</th>\n",
       "      <td>53</td>\n",
       "      <td>57.176211</td>\n",
       "    </tr>\n",
       "    <tr>\n",
       "      <th>129</th>\n",
       "      <td>68</td>\n",
       "      <td>61.793528</td>\n",
       "    </tr>\n",
       "    <tr>\n",
       "      <th>37</th>\n",
       "      <td>54</td>\n",
       "      <td>56.406658</td>\n",
       "    </tr>\n",
       "    <tr>\n",
       "      <th>74</th>\n",
       "      <td>59</td>\n",
       "      <td>57.945764</td>\n",
       "    </tr>\n",
       "    <tr>\n",
       "      <th>159</th>\n",
       "      <td>76</td>\n",
       "      <td>68.491884</td>\n",
       "    </tr>\n",
       "    <tr>\n",
       "      <th>144</th>\n",
       "      <td>71</td>\n",
       "      <td>74.648308</td>\n",
       "    </tr>\n",
       "    <tr>\n",
       "      <th>45</th>\n",
       "      <td>55</td>\n",
       "      <td>67.722331</td>\n",
       "    </tr>\n",
       "    <tr>\n",
       "      <th>158</th>\n",
       "      <td>76</td>\n",
       "      <td>58.715317</td>\n",
       "    </tr>\n",
       "    <tr>\n",
       "      <th>60</th>\n",
       "      <td>56</td>\n",
       "      <td>63.874567</td>\n",
       "    </tr>\n",
       "    <tr>\n",
       "      <th>122</th>\n",
       "      <td>66</td>\n",
       "      <td>69.261437</td>\n",
       "    </tr>\n",
       "    <tr>\n",
       "      <th>178</th>\n",
       "      <td>83</td>\n",
       "      <td>76.956966</td>\n",
       "    </tr>\n",
       "    <tr>\n",
       "      <th>184</th>\n",
       "      <td>88</td>\n",
       "      <td>75.417860</td>\n",
       "    </tr>\n",
       "    <tr>\n",
       "      <th>97</th>\n",
       "      <td>63</td>\n",
       "      <td>60.254422</td>\n",
       "    </tr>\n",
       "    <tr>\n",
       "      <th>44</th>\n",
       "      <td>55</td>\n",
       "      <td>57.176211</td>\n",
       "    </tr>\n",
       "    <tr>\n",
       "      <th>16</th>\n",
       "      <td>50</td>\n",
       "      <td>44.093811</td>\n",
       "    </tr>\n",
       "    <tr>\n",
       "      <th>55</th>\n",
       "      <td>56</td>\n",
       "      <td>55.637105</td>\n",
       "    </tr>\n",
       "    <tr>\n",
       "      <th>83</th>\n",
       "      <td>60</td>\n",
       "      <td>62.563081</td>\n",
       "    </tr>\n",
       "    <tr>\n",
       "      <th>110</th>\n",
       "      <td>64</td>\n",
       "      <td>61.793528</td>\n",
       "    </tr>\n",
       "    <tr>\n",
       "      <th>22</th>\n",
       "      <td>52</td>\n",
       "      <td>56.406658</td>\n",
       "    </tr>\n",
       "    <tr>\n",
       "      <th>188</th>\n",
       "      <td>89</td>\n",
       "      <td>71.570096</td>\n",
       "    </tr>\n",
       "    <tr>\n",
       "      <th>135</th>\n",
       "      <td>69</td>\n",
       "      <td>76.956966</td>\n",
       "    </tr>\n",
       "    <tr>\n",
       "      <th>4</th>\n",
       "      <td>45</td>\n",
       "      <td>51.019787</td>\n",
       "    </tr>\n",
       "    <tr>\n",
       "      <th>137</th>\n",
       "      <td>69</td>\n",
       "      <td>70.800543</td>\n",
       "    </tr>\n",
       "    <tr>\n",
       "      <th>193</th>\n",
       "      <td>96</td>\n",
       "      <td>85.422048</td>\n",
       "    </tr>\n",
       "  </tbody>\n",
       "</table>\n",
       "</div>"
      ],
      "text/plain": [
       "     Actual Weight  Predict Weight\n",
       "18              51       54.097999\n",
       "169             80       75.417860\n",
       "106             64       57.176211\n",
       "92              62       59.484869\n",
       "176             83       80.035178\n",
       "183             87       80.804731\n",
       "5               47       55.637105\n",
       "139             70       71.570096\n",
       "12              50       57.945764\n",
       "160             76       79.265625\n",
       "61              56       54.867552\n",
       "124             67       76.187413\n",
       "164             78       75.417860\n",
       "145             71       76.956966\n",
       "80              60       54.867552\n",
       "7               47       54.867552\n",
       "33              53       57.176211\n",
       "129             68       61.793528\n",
       "37              54       56.406658\n",
       "74              59       57.945764\n",
       "159             76       68.491884\n",
       "144             71       74.648308\n",
       "45              55       67.722331\n",
       "158             76       58.715317\n",
       "60              56       63.874567\n",
       "122             66       69.261437\n",
       "178             83       76.956966\n",
       "184             88       75.417860\n",
       "97              63       60.254422\n",
       "44              55       57.176211\n",
       "16              50       44.093811\n",
       "55              56       55.637105\n",
       "83              60       62.563081\n",
       "110             64       61.793528\n",
       "22              52       56.406658\n",
       "188             89       71.570096\n",
       "135             69       76.956966\n",
       "4               45       51.019787\n",
       "137             69       70.800543\n",
       "193             96       85.422048"
      ]
     },
     "execution_count": 34,
     "metadata": {},
     "output_type": "execute_result"
    }
   ],
   "source": [
    "df4 = pd.DataFrame({'Actual Weight' : Y_test , 'Predict Weight' : y_rid_pre})\n",
    "df4"
   ]
  },
  {
   "cell_type": "code",
   "execution_count": 35,
   "id": "3aa897d4",
   "metadata": {},
   "outputs": [
    {
     "data": {
      "text/plain": [
       "<AxesSubplot:xlabel='Actual Weight', ylabel='Predict Weight'>"
      ]
     },
     "execution_count": 35,
     "metadata": {},
     "output_type": "execute_result"
    },
    {
     "data": {
      "image/png": "[encoded data removed]",
      "text/plain": [
       "<Figure size 640x480 with 1 Axes>"
      ]
     },
     "metadata": {},
     "output_type": "display_data"
    }
   ],
   "source": [
    "sb.scatterplot(x='Actual Weight',y='Predict Weight' , data=df4)"
   ]
  },
  {
   "cell_type": "markdown",
   "id": "866e4483",
   "metadata": {},
   "source": [
    "# Lasso Regression :"
   ]
  },
  {
   "cell_type": "code",
   "execution_count": 36,
   "id": "cd604fe7",
   "metadata": {},
   "outputs": [
    {
     "name": "stdout",
     "output_type": "stream",
     "text": [
      "[0.         1.09463309]\n",
      "-121.70357735750476\n"
     ]
    }
   ],
   "source": [
    "from sklearn.linear_model import Lasso\n",
    "las = Lasso()\n",
    "las.fit(X_train,Y_train)\n",
    "print(las.coef_)\n",
    "print(las.intercept_)"
   ]
  },
  {
   "cell_type": "code",
   "execution_count": 37,
   "id": "dd338eef",
   "metadata": {},
   "outputs": [
    {
     "data": {
      "text/plain": [
       "array([54.53234956, 73.14111202, 58.9108819 , 62.19478116, 79.70891054,\n",
       "       80.80354363, 56.72161573, 67.66794659, 60.00551499, 78.61427746,\n",
       "       55.62698264, 74.23574511, 73.14111202, 75.3303782 , 55.62698264,\n",
       "       55.62698264, 58.9108819 , 65.47868042, 57.81624881, 60.00551499,\n",
       "       63.28941425, 72.04647894, 62.19478116, 61.10014807, 56.72161573,\n",
       "       64.38404733, 75.3303782 , 73.14111202, 63.28941425, 58.9108819 ,\n",
       "       40.30211943, 56.72161573, 66.57331351, 65.47868042, 57.81624881,\n",
       "       67.66794659, 75.3303782 , 50.15381721, 66.57331351, 87.37134215])"
      ]
     },
     "execution_count": 37,
     "metadata": {},
     "output_type": "execute_result"
    }
   ],
   "source": [
    "Y_las_pre = las.predict(X_test)\n",
    "Y_las_pre"
   ]
  },
  {
   "cell_type": "code",
   "execution_count": 38,
   "id": "11fa3aea",
   "metadata": {},
   "outputs": [
    {
     "name": "stdout",
     "output_type": "stream",
     "text": [
      "mean_squared_error is = 52.43067039382065\n",
      "mean_absolute_error is = 5.649138560459172\n",
      "r2_value is = 0.6896629402990831\n",
      "root_mean_squared_error is = 26.215335196910324\n",
      "adjusted r2 value is = 0.6728879640990336\n"
     ]
    }
   ],
   "source": [
    "mse3 = mean_squared_error(Y_test,Y_las_pre)\n",
    "mae3 = mean_absolute_error(Y_test,Y_las_pre)\n",
    "r2_value_3 = r2_score(Y_test,Y_las_pre)\n",
    "rmse3 = (mse3)**1/2\n",
    "ad_r2_3 = 1-(1-r2_value_3)*(len(Y_test)-1)/(len(Y_test)-X_test.shape[1]-1)\n",
    "\n",
    "print('mean_squared_error is = '+str(mse3))\n",
    "print('mean_absolute_error is = '+str(mae3))\n",
    "print('r2_value is = '+str(r2_value_3))\n",
    "print('root_mean_squared_error is = '+str(rmse3))\n",
    "print('adjusted r2 value is = '+str(ad_r2_3))"
   ]
  },
  {
   "cell_type": "markdown",
   "id": "2ded4ad8",
   "metadata": {},
   "source": [
    "# ElasticNet Regression :"
   ]
  },
  {
   "cell_type": "code",
   "execution_count": 39,
   "id": "8f3a3d2c",
   "metadata": {},
   "outputs": [
    {
     "name": "stdout",
     "output_type": "stream",
     "text": [
      "[0.81390281 1.06092656]\n",
      "-116.30441219815329\n"
     ]
    }
   ],
   "source": [
    "from sklearn.linear_model import ElasticNet\n",
    "enet = ElasticNet()\n",
    "enet.fit(X_train,Y_train)\n",
    "print(enet.coef_)\n",
    "print(enet.intercept_)"
   ]
  },
  {
   "cell_type": "code",
   "execution_count": 40,
   "id": "ae63867c",
   "metadata": {},
   "outputs": [
    {
     "data": {
      "text/plain": [
       "array([54.5047642 , 73.35441856, 58.74847044, 61.93125013, 79.71997793,\n",
       "       80.78090449, 56.62661732, 68.04978575, 59.80939701, 78.65905136,\n",
       "       55.56569076, 74.41534512, 73.35441856, 75.47627168, 55.56569076,\n",
       "       55.56569076, 58.74847044, 65.11402981, 57.68754388, 59.80939701,\n",
       "       63.8060795 , 72.29349199, 62.74515294, 60.87032357, 57.44052013,\n",
       "       64.86700606, 75.47627168, 73.35441856, 62.99217669, 58.74847044,\n",
       "       40.7127189 , 56.62661732, 66.17495637, 65.11402981, 57.68754388,\n",
       "       68.04978575, 75.47627168, 50.26105795, 66.98885919, 87.14646386])"
      ]
     },
     "execution_count": 40,
     "metadata": {},
     "output_type": "execute_result"
    }
   ],
   "source": [
    "y_enet_pre = enet.predict(X_test)\n",
    "y_enet_pre"
   ]
  },
  {
   "cell_type": "code",
   "execution_count": 41,
   "id": "d25dbe56",
   "metadata": {},
   "outputs": [
    {
     "name": "stdout",
     "output_type": "stream",
     "text": [
      "mean_squared_error is = 51.39469485560585\n",
      "mean_absolute_error is = 5.585548009561948\n",
      "r2_value is = 0.6957948779614623\n",
      "root_mean_squared_error is = 25.697347427802924\n",
      "adjusted r2 value is = 0.6793513578512711\n"
     ]
    }
   ],
   "source": [
    "mse4 = mean_squared_error(Y_test,y_enet_pre)\n",
    "mae4 = mean_absolute_error(Y_test,y_enet_pre)\n",
    "r2_value_4 = r2_score(Y_test,y_enet_pre)\n",
    "rmse4 = (mse4)**1/2\n",
    "ad_r2_4 = 1-(1-r2_value_4)*(len(Y_test)-1)/(len(Y_test)-X_test.shape[1]-1)\n",
    "\n",
    "\n",
    "print('mean_squared_error is = '+str(mse4))\n",
    "print('mean_absolute_error is = '+str(mae4))\n",
    "print('r2_value is = '+str(r2_value_4))\n",
    "print('root_mean_squared_error is = '+str(rmse4))\n",
    "print('adjusted r2 value is = '+str(ad_r2_4))"
   ]
  },
  {
   "cell_type": "code",
   "execution_count": null,
   "id": "93d17c05",
   "metadata": {},
   "outputs": [],
   "source": []
  }
 ],
 "metadata": {
  "kernelspec": {
   "display_name": "Python 3 (ipykernel)",
   "language": "python",
   "name": "python3"
  },
  "language_info": {
   "codemirror_mode": {
    "name": "ipython",
    "version": 3
   },
   "file_extension": ".py",
   "mimetype": "text/x-python",
   "name": "python",
   "nbconvert_exporter": "python",
   "pygments_lexer": "ipython3",
   "version": "3.9.13"
  }
 },
 "nbformat": 4,
 "nbformat_minor": 5
}
